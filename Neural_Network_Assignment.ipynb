{
  "nbformat": 4,
  "nbformat_minor": 0,
  "metadata": {
    "colab": {
      "provenance": [],
      "mount_file_id": "19bVPBXQQcoLeHWsKFcMheIzccH5V_ABh",
      "authorship_tag": "ABX9TyNIPdw06G1TTf8WyPcjDUsS",
      "include_colab_link": true
    },
    "kernelspec": {
      "name": "python3",
      "display_name": "Python 3"
    },
    "language_info": {
      "name": "python"
    }
  },
  "cells": [
    {
      "cell_type": "markdown",
      "metadata": {
        "id": "view-in-github",
        "colab_type": "text"
      },
      "source": [
        "<a href=\"https://colab.research.google.com/github/kuldeepthakare7/Chirp-Birdsong-recognition/blob/main/Neural_Network_Assignment.ipynb\" target=\"_parent\"><img src=\"https://colab.research.google.com/assets/colab-badge.svg\" alt=\"Open In Colab\"/></a>"
      ]
    },
    {
      "cell_type": "code",
      "source": [
        "from google.colab import drive\n",
        "drive.mount('/content/drive')"
      ],
      "metadata": {
        "id": "s-Q9zuU5Q2g_"
      },
      "execution_count": null,
      "outputs": []
    },
    {
      "cell_type": "code",
      "execution_count": null,
      "metadata": {
        "id": "o8nTngkd3Qn_"
      },
      "outputs": [],
      "source": [
        "import numpy as np\n",
        "import pandas as pd\n",
        "import numpy as np\n",
        "import seaborn as sns\n",
        "import librosa\n",
        "import librosa.display\n",
        "import soundfile as sf\n",
        "import matplotlib.pyplot as plt\n",
        "import IPython.display as ipd\n",
        "from sklearn.model_selection import train_test_split\n",
        "from sklearn.linear_model import LinearRegression\n",
        "from sklearn.metrics import accuracy_score, classification_report\n",
        "from keras.models import Sequential\n",
        "from keras.layers import Dense, Dropout, Activation\n",
        "from keras.optimizers import Adam\n",
        "from keras.utils import to_categorical"
      ]
    },
    {
      "cell_type": "code",
      "source": [
        "df  = pd.read_csv('/content/UrbanSound8K.csv')"
      ],
      "metadata": {
        "id": "PVH1SqNPQ2QX"
      },
      "execution_count": null,
      "outputs": []
    },
    {
      "cell_type": "code",
      "source": [
        "def feature_extractor(filename):\n",
        "  Audio,sr = librosa.load(filename)\n",
        "  mel_signal = librosa.feature.melspectrogram(y=Audio, sr=sr, n_fft=1024, hop_length=64)\n",
        "  mel_spect = librosa.power_to_db(np.abs(mel_signal), ref=np.max)\n",
        "  mel_scaled = np.mean(mel_spect.T,axis=0)\n",
        "  return mel_scaled"
      ],
      "metadata": {
        "id": "rdeS_NgZQ2br"
      },
      "execution_count": null,
      "outputs": []
    },
    {
      "cell_type": "code",
      "source": [
        "labels = list(df['class'].unique())\n",
        "files = dict()\n",
        "for i in range(len(labels)):\n",
        "    tmp = df[df['class'] == labels[i]][:1].reset_index()\n",
        "    path = 'UrbanSound8K/audio/fold{}/{}'.format(tmp['fold'][0], tmp['slice_file_name'][0])\n",
        "    files[labels[i]] = path"
      ],
      "metadata": {
        "id": "2kpH4M3KQ2eX"
      },
      "execution_count": null,
      "outputs": []
    },
    {
      "cell_type": "code",
      "source": [
        "print(files)"
      ],
      "metadata": {
        "id": "IkUT1cmBQ2kX"
      },
      "execution_count": null,
      "outputs": []
    },
    {
      "cell_type": "code",
      "source": [
        "features=[]\n",
        "labels =[]\n",
        "for index,row in df.iterrows():\n",
        "  file_name = row['slice_file_name']\n",
        "  class_label = row['class']\n",
        "  features.append(feature_extractor(file_name))\n",
        "  labels.append(class_label)\n"
      ],
      "metadata": {
        "id": "QsE4T7OEk4bU"
      },
      "execution_count": null,
      "outputs": []
    },
    {
      "cell_type": "code",
      "source": [
        "featuresdf = pd.DataFrame(features, columns=['feature', 'fold' ,'class_label'])"
      ],
      "metadata": {
        "id": "XB49yxH2u0ND"
      },
      "execution_count": null,
      "outputs": []
    },
    {
      "cell_type": "code",
      "source": [
        "train = featuresdf[featuresdf['fold'] <= 8]\n",
        "test = featuresdf[featuresdf['fold'] > 8]\n",
        "x_train = np.array(train.feature.tolist())\n",
        "y_train = np.array(train.class_label.tolist())\n",
        "x_test = np.array(test.feature.tolist())\n",
        "y_test = np.array(test.class_label.tolist())\n",
        "le = LabelEncoder()\n",
        "y_train = to_categorical(le.fit_transform(y_train))\n",
        "y_test = to_categorical(le.fit_transform(y_test))"
      ],
      "metadata": {
        "id": "NYevW2BWu0Xo"
      },
      "execution_count": null,
      "outputs": []
    },
    {
      "cell_type": "code",
      "source": [
        "num_labels = y_train.shape[1]\n",
        "filter_size = 2\n",
        "def build_model_graph(input_shape=(40,)):\n",
        "    model = Sequential()\n",
        "    model.add(Dense(256))\n",
        "    model.add(Activation('relu'))\n",
        "    model.add(Dropout(0.5))\n",
        "    model.add(Dense(256))\n",
        "    model.add(Activation('relu'))\n",
        "    model.add(Dropout(0.5))\n",
        "    model.add(Dense(num_labels))\n",
        "    model.add(Activation('softmax'))\n",
        "    model.compile(loss='categorical_crossentropy', metrics=['accuracy'], optimizer='adam')\n",
        "    return model\n",
        "model = build_model_graph()"
      ],
      "metadata": {
        "id": "w4ZPHNNLu0bB"
      },
      "execution_count": null,
      "outputs": []
    },
    {
      "cell_type": "code",
      "source": [
        "from keras.callbacks import ModelCheckpoint\n",
        "from datetime import datetime\n",
        "num_epochs = 100\n",
        "num_batch_size = 32\n",
        "model.fit(x_train, y_train, batch_size=num_batch_size, epochs=num_epochs, validation_data=(x_test, y_test), verbose=1)"
      ],
      "metadata": {
        "id": "_93zb5LZk4vZ"
      },
      "execution_count": null,
      "outputs": []
    },
    {
      "cell_type": "code",
      "source": [
        "score = model.evaluate(x_train, y_train, verbose=0)\n",
        "print(\"Training Accuracy: {0:.2%}\".format(score[1]))\n",
        "score = model.evaluate(x_test, y_test, verbose=0)\n",
        "print(\"Testing Accuracy: {0:.2%}\".format(score[1]))"
      ],
      "metadata": {
        "id": "Ktf2QspTW_zW"
      },
      "execution_count": null,
      "outputs": []
    }
  ]
}