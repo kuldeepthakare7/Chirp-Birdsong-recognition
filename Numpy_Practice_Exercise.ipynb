{
  "nbformat": 4,
  "nbformat_minor": 0,
  "metadata": {
    "colab": {
      "provenance": []
    },
    "kernelspec": {
      "name": "python3",
      "display_name": "Python 3"
    }
  },
  "cells": [
    {
      "cell_type": "markdown",
      "source": [
        "<h1> ML.AI Week 1 Numpy Practice Notebook</h1>"
      ],
      "metadata": {
        "id": "ndFfgi7ewjBm"
      }
    },
    {
      "cell_type": "markdown",
      "source": [
        "## Importing Libraries"
      ],
      "metadata": {
        "id": "FLCCQQWewQMO"
      }
    },
    {
      "cell_type": "code",
      "metadata": {
        "id": "ipBx5KY2wWr3"
      },
      "source": [
        "# Import NumPy\n",
        "import numpy as np"
      ],
      "execution_count": 1,
      "outputs": []
    },
    {
      "cell_type": "markdown",
      "source": [
        "# Basics"
      ],
      "metadata": {
        "id": "i-M87Y3Ywgza"
      }
    },
    {
      "cell_type": "markdown",
      "source": [
        "## Create NumPy Array"
      ],
      "metadata": {
        "id": "oO5gw_3awNAC"
      }
    },
    {
      "cell_type": "code",
      "metadata": {
        "id": "xCRUIOP8wywQ",
        "colab": {
          "base_uri": "https://localhost:8080/"
        },
        "outputId": "8dcb6c32-f179-480e-a5c7-e574ee8ed7b8"
      },
      "source": [
        "my_list = [0,1,2,3,4,5,6,7,8,9]\n",
        "\n",
        "# Create NumPy array from my_list\n",
        "nparr = np.array(my_list)\n",
        "print(nparr)"
      ],
      "execution_count": 2,
      "outputs": [
        {
          "output_type": "stream",
          "name": "stdout",
          "text": [
            "[0 1 2 3 4 5 6 7 8 9]\n"
          ]
        }
      ]
    },
    {
      "cell_type": "code",
      "metadata": {
        "id": "XyVPJpzyw35U",
        "colab": {
          "base_uri": "https://localhost:8080/"
        },
        "outputId": "4d57cd8f-2748-44ad-e795-2d853fa53351"
      },
      "source": [
        "# Create NumPy array with numbers from 0 to 9 using arange method\n",
        "nparr = np.arange(0, 10)\n",
        "print(nparr)"
      ],
      "execution_count": 3,
      "outputs": [
        {
          "output_type": "stream",
          "name": "stdout",
          "text": [
            "[0 1 2 3 4 5 6 7 8 9]\n"
          ]
        }
      ]
    },
    {
      "cell_type": "markdown",
      "metadata": {
        "id": "x4GjKI9sw-rK"
      },
      "source": [
        "## Universal Functions (ufunc)\n",
        "\n",
        "Arithmetic operations we can perform with numpy arrays:\n",
        "\n",
        "https://docs.scipy.org/doc/scipy/reference/tutorial/basic.html\n",
        "\n",
        "https://numpy.org/doc/stable/reference/ufuncs.html"
      ]
    },
    {
      "cell_type": "code",
      "metadata": {
        "id": "RH2l-nsTw_dd",
        "colab": {
          "base_uri": "https://localhost:8080/"
        },
        "outputId": "0ce351f0-b7a2-4917-d054-73f8394ebb66"
      },
      "source": [
        "# ADDING ARRAYS\n",
        "nparr_added = nparr + nparr\n",
        "print(nparr_added)"
      ],
      "execution_count": 4,
      "outputs": [
        {
          "output_type": "stream",
          "name": "stdout",
          "text": [
            "[ 0  2  4  6  8 10 12 14 16 18]\n"
          ]
        }
      ]
    },
    {
      "cell_type": "code",
      "metadata": {
        "id": "6M2qhDDOxCKR",
        "colab": {
          "base_uri": "https://localhost:8080/"
        },
        "outputId": "79bd2fa8-9dc7-4341-b633-f5c6642ecb4d"
      },
      "source": [
        "# SUBTRACTING ARRAYS\n",
        "nparr_sub= nparr - nparr\n",
        "print(nparr_sub)"
      ],
      "execution_count": 5,
      "outputs": [
        {
          "output_type": "stream",
          "name": "stdout",
          "text": [
            "[0 0 0 0 0 0 0 0 0 0]\n"
          ]
        }
      ]
    },
    {
      "cell_type": "code",
      "metadata": {
        "id": "6Q7ui5l5xFFd",
        "colab": {
          "base_uri": "https://localhost:8080/"
        },
        "outputId": "273ea929-c041-4f9f-a2bd-3c5ee9c01ad5"
      },
      "source": [
        "# MULTIPLICATING OR DIVISION ARRAYS\n",
        "nparr_mult = nparr * nparr\n",
        "print(nparr_mult)\n",
        "# Note: division zero by zero yields no error, but nan (absence of an object, equal to null)\n",
        "nparr_div = nparr / nparr\n",
        "print(nparr_div)"
      ],
      "execution_count": 6,
      "outputs": [
        {
          "output_type": "stream",
          "name": "stdout",
          "text": [
            "[ 0  1  4  9 16 25 36 49 64 81]\n",
            "[nan  1.  1.  1.  1.  1.  1.  1.  1.  1.]\n"
          ]
        },
        {
          "output_type": "stream",
          "name": "stderr",
          "text": [
            "<ipython-input-6-40008f680545>:5: RuntimeWarning: invalid value encountered in divide\n",
            "  nparr_div = nparr / nparr\n"
          ]
        }
      ]
    },
    {
      "cell_type": "code",
      "metadata": {
        "id": "8y8KOYJgxHfw",
        "outputId": "78bf1c8a-b7d8-46fc-ca7f-48be0142c650",
        "colab": {
          "base_uri": "https://localhost:8080/"
        }
      },
      "source": [
        "# MULTIPLY BY A SCALARS\n",
        "nparr_esc = nparr * 10\n",
        "print(nparr_esc)"
      ],
      "execution_count": 7,
      "outputs": [
        {
          "output_type": "stream",
          "name": "stdout",
          "text": [
            "[ 0 10 20 30 40 50 60 70 80 90]\n"
          ]
        }
      ]
    },
    {
      "cell_type": "code",
      "metadata": {
        "id": "eFU9MjmsxOtS",
        "colab": {
          "base_uri": "https://localhost:8080/"
        },
        "outputId": "9d2c6b21-20c3-425c-baab-98438144cb26"
      },
      "source": [
        "# ONE DIVIDED BY ZERO\n",
        "# inf signifies infinity for one divided by zero at the very first element\n",
        "nparr_one_div = 1/nparr\n",
        "print(nparr_one_div)"
      ],
      "execution_count": 8,
      "outputs": [
        {
          "output_type": "stream",
          "name": "stdout",
          "text": [
            "[       inf 1.         0.5        0.33333333 0.25       0.2\n",
            " 0.16666667 0.14285714 0.125      0.11111111]\n"
          ]
        },
        {
          "output_type": "stream",
          "name": "stderr",
          "text": [
            "<ipython-input-8-a9dbd8217a45>:3: RuntimeWarning: divide by zero encountered in divide\n",
            "  nparr_one_div = 1/nparr\n"
          ]
        }
      ]
    },
    {
      "cell_type": "code",
      "metadata": {
        "id": "q01cuOPgxRGY",
        "colab": {
          "base_uri": "https://localhost:8080/"
        },
        "outputId": "d8ba101c-4527-427c-c137-ebfc6b9616e3"
      },
      "source": [
        "# EXPONENT - ARRAYS - Squaring everything - Two options\n",
        "np_arr_exp1 = nparr ** 2\n",
        "print(np_arr_exp1)\n",
        "np_arr_exp2 = np.square(nparr)\n",
        "print(np_arr_exp2)"
      ],
      "execution_count": 9,
      "outputs": [
        {
          "output_type": "stream",
          "name": "stdout",
          "text": [
            "[ 0  1  4  9 16 25 36 49 64 81]\n",
            "[ 0  1  4  9 16 25 36 49 64 81]\n"
          ]
        }
      ]
    },
    {
      "cell_type": "code",
      "metadata": {
        "id": "G6PuQ1CgxT4B",
        "colab": {
          "base_uri": "https://localhost:8080/"
        },
        "outputId": "06eaa78c-e311-4075-b080-5cb2656232b6"
      },
      "source": [
        "# SQUARE ROOT\n",
        "nparr_sr = np.sqrt(nparr)\n",
        "print(nparr_sr)"
      ],
      "execution_count": 10,
      "outputs": [
        {
          "output_type": "stream",
          "name": "stdout",
          "text": [
            "[0.         1.         1.41421356 1.73205081 2.         2.23606798\n",
            " 2.44948974 2.64575131 2.82842712 3.        ]\n"
          ]
        }
      ]
    },
    {
      "cell_type": "code",
      "metadata": {
        "id": "R_G7nQ9dxX3d",
        "colab": {
          "base_uri": "https://localhost:8080/"
        },
        "outputId": "06081d9f-a211-42c4-c18c-23b796bb3432"
      },
      "source": [
        "# EXPONENTIAL WITH ARRAYS\n",
        "np_arr_exp3 = np.exp(nparr)\n",
        "print(np_arr_exp3)"
      ],
      "execution_count": 11,
      "outputs": [
        {
          "output_type": "stream",
          "name": "stdout",
          "text": [
            "[1.00000000e+00 2.71828183e+00 7.38905610e+00 2.00855369e+01\n",
            " 5.45981500e+01 1.48413159e+02 4.03428793e+02 1.09663316e+03\n",
            " 2.98095799e+03 8.10308393e+03]\n"
          ]
        }
      ]
    },
    {
      "cell_type": "code",
      "metadata": {
        "id": "QD-uBWKPxZv4",
        "colab": {
          "base_uri": "https://localhost:8080/"
        },
        "outputId": "a780ce63-e4a5-45da-fa2f-96e94736e3af"
      },
      "source": [
        "# MAX & MIN\n",
        "nparr_max = np.max(nparr)\n",
        "print(nparr_max)\n",
        "nparr_min = np.min(nparr)\n",
        "print(nparr_min)"
      ],
      "execution_count": 12,
      "outputs": [
        {
          "output_type": "stream",
          "name": "stdout",
          "text": [
            "9\n",
            "0\n"
          ]
        }
      ]
    },
    {
      "cell_type": "code",
      "metadata": {
        "id": "TRsuqrGnxb7r",
        "colab": {
          "base_uri": "https://localhost:8080/"
        },
        "outputId": "764dbd81-786a-4a21-c653-21602ff9245a"
      },
      "source": [
        "# TRIGONOMETRIC FUNCTIONS - Passing every element into sine function\n",
        "nparr_sin = np.sin(nparr)\n",
        "print(nparr_sin)"
      ],
      "execution_count": 13,
      "outputs": [
        {
          "output_type": "stream",
          "name": "stdout",
          "text": [
            "[ 0.          0.84147098  0.90929743  0.14112001 -0.7568025  -0.95892427\n",
            " -0.2794155   0.6569866   0.98935825  0.41211849]\n"
          ]
        }
      ]
    },
    {
      "cell_type": "code",
      "metadata": {
        "id": "lUE7rfEfxeYH",
        "colab": {
          "base_uri": "https://localhost:8080/"
        },
        "outputId": "ac436560-9cc2-45f3-b065-723bedfd3a10"
      },
      "source": [
        "# LOGARITHMIC - Note:  the very first one is minus infinity\n",
        "nparr_log = np.log(nparr)\n",
        "print(nparr_log)"
      ],
      "execution_count": 14,
      "outputs": [
        {
          "output_type": "stream",
          "name": "stdout",
          "text": [
            "[      -inf 0.         0.69314718 1.09861229 1.38629436 1.60943791\n",
            " 1.79175947 1.94591015 2.07944154 2.19722458]\n"
          ]
        },
        {
          "output_type": "stream",
          "name": "stderr",
          "text": [
            "<ipython-input-14-95468e9a734b>:2: RuntimeWarning: divide by zero encountered in log\n",
            "  nparr_log = np.log(nparr)\n"
          ]
        }
      ]
    },
    {
      "cell_type": "markdown",
      "metadata": {
        "id": "b3t7n_rExqYz"
      },
      "source": [
        "# NUMPY PRACTICE EXERCISES"
      ]
    },
    {
      "cell_type": "markdown",
      "metadata": {
        "id": "kM4gRRsvx25_"
      },
      "source": [
        "## 1 . Creates an array of the integers from 10 to 50"
      ]
    },
    {
      "cell_type": "code",
      "metadata": {
        "id": "0Svcsjnrx4xR",
        "colab": {
          "base_uri": "https://localhost:8080/"
        },
        "outputId": "b910f1cd-50f0-4259-b5bd-60c511cf43a9"
      },
      "source": [
        "arr = np.arange(10,51)\n",
        "print(arr)"
      ],
      "execution_count": 17,
      "outputs": [
        {
          "output_type": "stream",
          "name": "stdout",
          "text": [
            "[10 11 12 13 14 15 16 17 18 19 20 21 22 23 24 25 26 27 28 29 30 31 32 33\n",
            " 34 35 36 37 38 39 40 41 42 43 44 45 46 47 48 49]\n"
          ]
        }
      ]
    },
    {
      "cell_type": "markdown",
      "metadata": {
        "id": "waLqx2TbyAcb"
      },
      "source": [
        "## 2 . Create an array of the even integers from 10 to 50"
      ]
    },
    {
      "cell_type": "code",
      "metadata": {
        "id": "SMc68WdEx67L",
        "colab": {
          "base_uri": "https://localhost:8080/"
        },
        "outputId": "ffd0a359-ec73-4a5e-a3db-3add4200a5d0"
      },
      "source": [
        "arr2 = np.arange(10,51,2)\n",
        "arr2"
      ],
      "execution_count": 19,
      "outputs": [
        {
          "output_type": "execute_result",
          "data": {
            "text/plain": [
              "array([10, 12, 14, 16, 18, 20, 22, 24, 26, 28, 30, 32, 34, 36, 38, 40, 42,\n",
              "       44, 46, 48, 50])"
            ]
          },
          "metadata": {},
          "execution_count": 19
        }
      ]
    },
    {
      "cell_type": "markdown",
      "metadata": {
        "id": "aIzm88u1yGpE"
      },
      "source": [
        "\n",
        "\n",
        "## 3. Creates a 3x3 matrix with values ranging from 1 to 9"
      ]
    },
    {
      "cell_type": "code",
      "metadata": {
        "id": "EI9KtMn4yId-",
        "colab": {
          "base_uri": "https://localhost:8080/"
        },
        "outputId": "03e329af-8763-4ebf-f39f-9e22fd078c45"
      },
      "source": [
        "array = np.array([[1,2,3],[4,5,6],[7,8,9]])\n",
        "array"
      ],
      "execution_count": 21,
      "outputs": [
        {
          "output_type": "execute_result",
          "data": {
            "text/plain": [
              "array([[1, 2, 3],\n",
              "       [4, 5, 6],\n",
              "       [7, 8, 9]])"
            ]
          },
          "metadata": {},
          "execution_count": 21
        }
      ]
    },
    {
      "cell_type": "markdown",
      "metadata": {
        "id": "eOvyPzP7yNHs"
      },
      "source": [
        "## 4. Use NumPy to generate a random number between 0 and 1"
      ]
    },
    {
      "cell_type": "code",
      "metadata": {
        "id": "bEKJCls2yOaC",
        "colab": {
          "base_uri": "https://localhost:8080/"
        },
        "outputId": "aa439104-793a-4929-d7ae-c3a9442362ec"
      },
      "source": [
        "x = np.random.uniform(0,1,1)\n",
        "x"
      ],
      "execution_count": 36,
      "outputs": [
        {
          "output_type": "execute_result",
          "data": {
            "text/plain": [
              "array([0.8765521])"
            ]
          },
          "metadata": {},
          "execution_count": 36
        }
      ]
    },
    {
      "cell_type": "markdown",
      "metadata": {
        "id": "NCxHKGsIybmd"
      },
      "source": [
        "\n",
        "\n",
        "## 5. Use NumPy to generate 25 random numbers sampled from a standard normal distribution"
      ]
    },
    {
      "cell_type": "code",
      "metadata": {
        "id": "8uajaz4oyd01",
        "colab": {
          "base_uri": "https://localhost:8080/"
        },
        "outputId": "751dae22-12b4-45fd-f2d2-2dc405bba0eb"
      },
      "source": [
        "x = np.random.uniform(0,1,25)\n",
        "x"
      ],
      "execution_count": 38,
      "outputs": [
        {
          "output_type": "execute_result",
          "data": {
            "text/plain": [
              "array([0.80708988, 0.31488611, 0.03265759, 0.7489016 , 0.71392974,\n",
              "       0.1368998 , 0.6931951 , 0.76792267, 0.75790124, 0.11857631,\n",
              "       0.65249882, 0.22939223, 0.25027562, 0.93470697, 0.4252956 ,\n",
              "       0.33084406, 0.87391076, 0.89264263, 0.52481866, 0.51556811,\n",
              "       0.01617586, 0.37347227, 0.70942447, 0.2864228 , 0.31995491])"
            ]
          },
          "metadata": {},
          "execution_count": 38
        }
      ]
    },
    {
      "cell_type": "markdown",
      "metadata": {
        "id": "RddxbwyayiVs"
      },
      "source": [
        "## 6. Create a matrix of 100 items spaced equally at 0.01 steps ranged fro 0.01 to 1"
      ]
    },
    {
      "cell_type": "code",
      "metadata": {
        "id": "FzOdZXwRyjsO",
        "colab": {
          "base_uri": "https://localhost:8080/"
        },
        "outputId": "2f2bc33d-e439-4e96-9013-b330ce6c7b88"
      },
      "source": [
        "x = np.arange(0.01,1.01,0.01).reshape(10,10)\n",
        "x"
      ],
      "execution_count": 48,
      "outputs": [
        {
          "output_type": "execute_result",
          "data": {
            "text/plain": [
              "array([[0.01, 0.02, 0.03, 0.04, 0.05, 0.06, 0.07, 0.08, 0.09, 0.1 ],\n",
              "       [0.11, 0.12, 0.13, 0.14, 0.15, 0.16, 0.17, 0.18, 0.19, 0.2 ],\n",
              "       [0.21, 0.22, 0.23, 0.24, 0.25, 0.26, 0.27, 0.28, 0.29, 0.3 ],\n",
              "       [0.31, 0.32, 0.33, 0.34, 0.35, 0.36, 0.37, 0.38, 0.39, 0.4 ],\n",
              "       [0.41, 0.42, 0.43, 0.44, 0.45, 0.46, 0.47, 0.48, 0.49, 0.5 ],\n",
              "       [0.51, 0.52, 0.53, 0.54, 0.55, 0.56, 0.57, 0.58, 0.59, 0.6 ],\n",
              "       [0.61, 0.62, 0.63, 0.64, 0.65, 0.66, 0.67, 0.68, 0.69, 0.7 ],\n",
              "       [0.71, 0.72, 0.73, 0.74, 0.75, 0.76, 0.77, 0.78, 0.79, 0.8 ],\n",
              "       [0.81, 0.82, 0.83, 0.84, 0.85, 0.86, 0.87, 0.88, 0.89, 0.9 ],\n",
              "       [0.91, 0.92, 0.93, 0.94, 0.95, 0.96, 0.97, 0.98, 0.99, 1.  ]])"
            ]
          },
          "metadata": {},
          "execution_count": 48
        }
      ]
    },
    {
      "cell_type": "code",
      "metadata": {
        "id": "yJxrHMO0ylZj"
      },
      "source": [
        "# Returning the exact same result as above\n"
      ],
      "execution_count": 43,
      "outputs": []
    },
    {
      "cell_type": "markdown",
      "metadata": {
        "id": "tQVoOsaAyp1X"
      },
      "source": [
        "## 7. Create an array of 20 linearly spaced points between 0 and 1"
      ]
    },
    {
      "cell_type": "code",
      "metadata": {
        "id": "4MtcWJA4yrGl",
        "colab": {
          "base_uri": "https://localhost:8080/"
        },
        "outputId": "eb16f6ab-402d-4934-cd13-a705cd200557"
      },
      "source": [
        "x = np.random.uniform(0,1,20)\n",
        "x"
      ],
      "execution_count": 52,
      "outputs": [
        {
          "output_type": "execute_result",
          "data": {
            "text/plain": [
              "array([0.92027658, 0.94323557, 0.58169958, 0.83848829, 0.82406899,\n",
              "       0.36670118, 0.74030354, 0.08810075, 0.01698099, 0.48488955,\n",
              "       0.60846839, 0.22374883, 0.67505848, 0.73212821, 0.91924558,\n",
              "       0.79605091, 0.51705887, 0.78607315, 0.80071069, 0.0783573 ])"
            ]
          },
          "metadata": {},
          "execution_count": 52
        }
      ]
    },
    {
      "cell_type": "markdown",
      "metadata": {
        "id": "ROMflFPMyxX8"
      },
      "source": [
        "# INDEXING & SLICING NOTATION in PYTHON\n",
        "\n",
        "## What does indexing mean in Python?\n",
        "An index refers to a position within an ordered list.\n",
        "\n",
        "## And what about Slicing?\n",
        "Slicing in python means taking elements from one given index to another given index. We pass slice instead of an index like this: [[start:end]]. We can also define the step, like this: [[start:end:step]].\n"
      ]
    },
    {
      "cell_type": "markdown",
      "metadata": {
        "id": "GI3tgye0y4Q_"
      },
      "source": [
        "\n",
        "## Two-Dimensional Array: arr_2_d\n",
        "\n",
        "There are 2 general formats for GRABBING ELEMENTS from a 2-d array (matrix):\n",
        "\n",
        "1. DOUBLE BRACKET FORMAT   \n",
        "\n",
        "      mat[row][column]\n",
        "\n",
        "2. SINGLE BRACKET FORMAT   \n",
        "\n",
        "      mat[row,column]\n",
        "      \n",
        "      w/ comma, this is least prone to error!"
      ]
    },
    {
      "cell_type": "markdown",
      "metadata": {
        "id": "uAaaiIVIzGNW"
      },
      "source": [
        "## Indexing & Slicing Notation (mnemonic):\n",
        "\n",
        "[ row : Column ]\n",
        "\n",
        "### Indexing:\n",
        "\n",
        "[ **Grab just the** ] , [ **and just the** ]\n",
        "\n",
        "### Slicing: (bni)\n",
        "\n",
        "[**Grab all from the : up to the** ] , [ **and all from the : up to the** ]\n",
        "\n",
        "[ **but not including (bni)** ]: [ **but not including (bni)**]"
      ]
    },
    {
      "cell_type": "markdown",
      "metadata": {
        "id": "erYYymH9zfFK"
      },
      "source": [
        "PRACTICING EXERCISES:\n",
        "\n",
        "(for Indexing & Slicing in Python & NumPy)"
      ]
    },
    {
      "cell_type": "code",
      "metadata": {
        "id": "93KjIoWVysto",
        "colab": {
          "base_uri": "https://localhost:8080/"
        },
        "outputId": "31b6f3ae-0dbf-4838-f77b-01b48cf43a19"
      },
      "source": [
        "# Use this 2-Dimensional Array for this exercises\n",
        "import numpy as np\n",
        "arr = np.arange(1,26).reshape(5,5)\n",
        "arr"
      ],
      "execution_count": 54,
      "outputs": [
        {
          "output_type": "execute_result",
          "data": {
            "text/plain": [
              "array([[ 1,  2,  3,  4,  5],\n",
              "       [ 6,  7,  8,  9, 10],\n",
              "       [11, 12, 13, 14, 15],\n",
              "       [16, 17, 18, 19, 20],\n",
              "       [21, 22, 23, 24, 25]])"
            ]
          },
          "metadata": {},
          "execution_count": 54
        }
      ]
    },
    {
      "cell_type": "markdown",
      "metadata": {
        "id": "0SIFJUaTztCI"
      },
      "source": [
        "### 8. Grab element 20  of the arr_2_d array"
      ]
    },
    {
      "cell_type": "code",
      "metadata": {
        "id": "VGcspB0SztmQ",
        "colab": {
          "base_uri": "https://localhost:8080/"
        },
        "outputId": "cea036e7-a21c-4975-8aa4-ec924554978c"
      },
      "source": [
        "\n",
        "# That is to say:\n",
        "# for row: **Grab just the** forth row,\n",
        "#          it rescues just one element in the forth row:), and\n",
        "# for column: **and just the** fifth column.\n",
        "#             It rescues just one element in fifth column, again:)\n",
        "x = arr[3,4]\n",
        "x"
      ],
      "execution_count": 42,
      "outputs": [
        {
          "output_type": "execute_result",
          "data": {
            "text/plain": [
              "20"
            ]
          },
          "metadata": {},
          "execution_count": 42
        }
      ]
    },
    {
      "cell_type": "markdown",
      "metadata": {
        "id": "mU7f5am2z0jZ"
      },
      "source": [
        "### 9. Grab items 2, 7, 12 of the arr_2_d array"
      ]
    },
    {
      "cell_type": "code",
      "metadata": {
        "id": "g3QBOE6vz2uR",
        "colab": {
          "base_uri": "https://localhost:8080/"
        },
        "outputId": "27066540-d7ab-4179-93bf-f7e2105e94fa"
      },
      "source": [
        "arr[np.array([0,1,2]),1]"
      ],
      "execution_count": 43,
      "outputs": [
        {
          "output_type": "execute_result",
          "data": {
            "text/plain": [
              "array([ 2,  7, 12])"
            ]
          },
          "metadata": {},
          "execution_count": 43
        }
      ]
    },
    {
      "cell_type": "markdown",
      "metadata": {
        "id": "AtAhD17G0nH9"
      },
      "source": [
        "### 10. Grab the last row of the arr_2_d array"
      ]
    },
    {
      "cell_type": "code",
      "metadata": {
        "id": "yHEr1Vthz5Fh",
        "colab": {
          "base_uri": "https://localhost:8080/"
        },
        "outputId": "ce0928c7-c0c2-4140-8b75-8ea623bac404"
      },
      "source": [
        "\n",
        "# That is to say:\n",
        "#\n",
        "# for row: **Grab just the** fifth row,\n",
        "#          it rescues just the last row:),\n",
        "#\n",
        "# for column: **and all from the** beginning **up to the** end of\n",
        "#             the columns(:). It rescues all the columns:)\n",
        "arr[4]"
      ],
      "execution_count": 44,
      "outputs": [
        {
          "output_type": "execute_result",
          "data": {
            "text/plain": [
              "array([21, 22, 23, 24, 25])"
            ]
          },
          "metadata": {},
          "execution_count": 44
        }
      ]
    },
    {
      "cell_type": "markdown",
      "metadata": {
        "id": "V4QJvxly01mZ"
      },
      "source": [
        "### 11. Get the sum of all the values, column values and row values in arr_2_d array"
      ]
    },
    {
      "cell_type": "code",
      "metadata": {
        "id": "r4C7rdUn02Lx",
        "colab": {
          "base_uri": "https://localhost:8080/"
        },
        "outputId": "2b1f6ed9-db58-42c0-bc15-d05d7aa0e5a9"
      },
      "source": [
        "# Using NumPy and pass array as parameter\n",
        "\n",
        "# OR\n",
        "# Use the method of the object array itself directly\n",
        "np.sum(arr)"
      ],
      "execution_count": 45,
      "outputs": [
        {
          "output_type": "execute_result",
          "data": {
            "text/plain": [
              "325"
            ]
          },
          "metadata": {},
          "execution_count": 45
        }
      ]
    },
    {
      "cell_type": "code",
      "metadata": {
        "id": "j_UbfWuO038O",
        "colab": {
          "base_uri": "https://localhost:8080/"
        },
        "outputId": "8126a7b5-c70d-4da2-e4ab-1363f4c052c1"
      },
      "source": [
        "\n",
        "# axis=0 -> row -> so the result is placed in a row\n",
        "# (then it is a columns' sum)\n",
        "\n",
        "# axis=1 -> columns -> so the result is placed in a column\n",
        "# (then it is a row's sum:)\n",
        "\n",
        "\n",
        "# axis=0 -> row -> so the result is placed in a row\n",
        "# (then it is a columns' sum)\n",
        "\n",
        "# axis=1 -> columns -> so the result is placed in a column\n",
        "# (then it is a row's sum:)\n",
        "print(np.sum(arr,axis=0))\n",
        "print(np.sum(arr,axis=1))"
      ],
      "execution_count": 46,
      "outputs": [
        {
          "output_type": "stream",
          "name": "stdout",
          "text": [
            "[55 60 65 70 75]\n",
            "[ 15  40  65  90 115]\n"
          ]
        }
      ]
    },
    {
      "cell_type": "markdown",
      "metadata": {
        "id": "rfxf2izz1FGw"
      },
      "source": [
        "### 12. Get the standard diviation of the values in arr_2_d array"
      ]
    },
    {
      "cell_type": "code",
      "metadata": {
        "id": "om6NxGEH1F8k",
        "colab": {
          "base_uri": "https://localhost:8080/"
        },
        "outputId": "b93bc818-2170-4cee-eab5-a890f08e3b40"
      },
      "source": [
        "mean=np.sum(arr)/25\n",
        "new = arr-mean\n",
        "new =new**2\n",
        "new = np.sum(new)\n",
        "s = np.sqrt(new)\n",
        "print(s/5)"
      ],
      "execution_count": 63,
      "outputs": [
        {
          "output_type": "stream",
          "name": "stdout",
          "text": [
            "7.211102550927978\n"
          ]
        }
      ]
    },
    {
      "cell_type": "code",
      "source": [
        "# Returning the exact same result as above\n"
      ],
      "metadata": {
        "id": "bnICQsGXYbm7"
      },
      "execution_count": 64,
      "outputs": []
    },
    {
      "cell_type": "markdown",
      "metadata": {
        "id": "uUFmB7et1ezJ"
      },
      "source": [
        "# CONDITIONAL SELECTION"
      ]
    },
    {
      "cell_type": "markdown",
      "metadata": {
        "id": "-W_rKpYA1kJr"
      },
      "source": [
        "### SUMMARY\n",
        "\n",
        "1. Get an array and perform a comparison operator on it; it will return a boolean array;\n",
        "2. Use that boolean array to index a conditional selection."
      ]
    },
    {
      "cell_type": "code",
      "metadata": {
        "id": "MvAI1M7F1kpU",
        "colab": {
          "base_uri": "https://localhost:8080/"
        },
        "outputId": "c950d6fa-f5c6-4919-f796-8b987966f0e7"
      },
      "source": [
        "# Given that Array to test Conditional Selection\n",
        "arr = np.arange(1,11)\n",
        "print(arr)"
      ],
      "execution_count": 65,
      "outputs": [
        {
          "output_type": "stream",
          "name": "stdout",
          "text": [
            "[ 1  2  3  4  5  6  7  8  9 10]\n"
          ]
        }
      ]
    },
    {
      "cell_type": "code",
      "metadata": {
        "id": "qmfpQJae1oLy",
        "colab": {
          "base_uri": "https://localhost:8080/"
        },
        "outputId": "7a6d6158-8bd9-4648-a6f2-192e295127b4"
      },
      "source": [
        "# Perform the comparison and grab the result (booleans array)\n",
        "bool_arr = arr < 5\n",
        "print(bool_arr)"
      ],
      "execution_count": 66,
      "outputs": [
        {
          "output_type": "stream",
          "name": "stdout",
          "text": [
            "[ True  True  True  True False False False False False False]\n"
          ]
        }
      ]
    },
    {
      "cell_type": "code",
      "metadata": {
        "id": "orkXjA9z1qoh",
        "colab": {
          "base_uri": "https://localhost:8080/"
        },
        "outputId": "9340634e-918f-491d-cad5-c2ce69650749"
      },
      "source": [
        "# I can now use that booleans array to actualy index or **conditionally select** elements\n",
        "#  from the original array (arr); then only return instances where boolean array is true.\n",
        "result_arr = arr[bool_arr]\n",
        "print(result_arr)"
      ],
      "execution_count": 67,
      "outputs": [
        {
          "output_type": "stream",
          "name": "stdout",
          "text": [
            "[1 2 3 4]\n"
          ]
        }
      ]
    },
    {
      "cell_type": "markdown",
      "metadata": {
        "id": "ZgZP1kSz1vOa"
      },
      "source": [
        "### In Just One line of code. Just Awesome!"
      ]
    },
    {
      "cell_type": "code",
      "metadata": {
        "id": "-4Qg1Wbq1vlC",
        "colab": {
          "base_uri": "https://localhost:8080/"
        },
        "outputId": "d7b6ca3a-45f2-4e24-a3b0-19f53db10f03"
      },
      "source": [
        "# Returning the same result as above\n",
        "result_arr = arr[arr<5]\n",
        "print(result_arr)"
      ],
      "execution_count": 68,
      "outputs": [
        {
          "output_type": "stream",
          "name": "stdout",
          "text": [
            "[1 2 3 4]\n"
          ]
        }
      ]
    },
    {
      "cell_type": "markdown",
      "metadata": {
        "id": "cTfCIaC5177t"
      },
      "source": [
        "### Notes:\n",
        "\n",
        "Getting an array and using a comparison operator on it will actually return a boolean array (meaning an array of all boolean values).\n",
        "\n",
        "Then we can use that boolean array to actually index or conditionally select elements from the original array where this happened to true.\n",
        "\n",
        "So only return instances where that boolean array is true, and more commonly, instead of sorting of splitting this up into 2 steps, we would actually do this all in one step (see code above).\n",
        "\n",
        "We would say, an array, and in brackets, instead of the array, we would pass in the conditional statement (arr[arr<5]), and that would return the same answer as the 2-step method and this is the sort of syntax notation we're going to be using all the time as far as conditional selection is an issue.\n",
        "\n",
        "It's kind of weird to pass the variable itself as a parameter to the indexer brackets, but that's how it works!\n",
        "\n",
        "THIS IS THE SORT OF SYNTAX NOTATION YOU WOULD GET USED SPECIALLY WHEN WE MOVE ON TO PANDAS!"
      ]
    },
    {
      "cell_type": "markdown",
      "source": [
        "## Advanced Questions"
      ],
      "metadata": {
        "id": "9M5JG6S1ZL0e"
      }
    },
    {
      "cell_type": "markdown",
      "source": [
        "### 13. Declare a 8x8 matrix and fill it with a checkerboard (or chess) pattern."
      ],
      "metadata": {
        "id": "11amIBueZOZY"
      }
    },
    {
      "cell_type": "code",
      "source": [
        "np.arange(1,65).reshape(8,8)"
      ],
      "metadata": {
        "id": "LjR0lnK_ZNXr",
        "outputId": "161127dd-9265-4e2c-d02b-17634b6c4d4e",
        "colab": {
          "base_uri": "https://localhost:8080/"
        }
      },
      "execution_count": 69,
      "outputs": [
        {
          "output_type": "execute_result",
          "data": {
            "text/plain": [
              "array([[ 1,  2,  3,  4,  5,  6,  7,  8],\n",
              "       [ 9, 10, 11, 12, 13, 14, 15, 16],\n",
              "       [17, 18, 19, 20, 21, 22, 23, 24],\n",
              "       [25, 26, 27, 28, 29, 30, 31, 32],\n",
              "       [33, 34, 35, 36, 37, 38, 39, 40],\n",
              "       [41, 42, 43, 44, 45, 46, 47, 48],\n",
              "       [49, 50, 51, 52, 53, 54, 55, 56],\n",
              "       [57, 58, 59, 60, 61, 62, 63, 64]])"
            ]
          },
          "metadata": {},
          "execution_count": 69
        }
      ]
    },
    {
      "cell_type": "markdown",
      "source": [
        "### 14. Declare a 10x10 array with random values and find the minimum and maximum values."
      ],
      "metadata": {
        "id": "tmNGX1c6ZRxx"
      }
    },
    {
      "cell_type": "code",
      "source": [
        "arr = np.random.uniform(0,1,100).reshape(10,10)\n",
        "np.min(arr)\n",
        "np.max(arr)"
      ],
      "metadata": {
        "id": "Fx9enDeLZXYl",
        "outputId": "7e4287a8-cd23-41cc-bc57-d68268f731ea",
        "colab": {
          "base_uri": "https://localhost:8080/"
        }
      },
      "execution_count": 72,
      "outputs": [
        {
          "output_type": "execute_result",
          "data": {
            "text/plain": [
              "0.0024275139901023257"
            ]
          },
          "metadata": {},
          "execution_count": 72
        }
      ]
    },
    {
      "cell_type": "markdown",
      "source": [
        "### 15. Create a random 10x2 matrix. Considering each pair represents an (x,y) co-ordinate in 2-D, obtain a matrix which contains (r,theta) in polar co-ordinate system.\n",
        "\n"
      ],
      "metadata": {
        "id": "4kHMCyp0ZZAJ"
      }
    },
    {
      "cell_type": "code",
      "source": [
        "arr1 = np.random.rand(10,2)\n",
        "print(arr1)\n",
        "arr2 = arr1**2\n",
        "arr2 = np.sum(arr2,axis=1)\n",
        "x,y = arr1[:,0],arr1[:,1]\n",
        "x = x/arr2\n",
        "y = y/arr2\n",
        "print(x)\n",
        "print(y)\n"
      ],
      "metadata": {
        "id": "KjuZwDO_ZaEU",
        "outputId": "2c0b836d-de9d-45e7-e574-5b8b8ab42adc",
        "colab": {
          "base_uri": "https://localhost:8080/"
        }
      },
      "execution_count": 80,
      "outputs": [
        {
          "output_type": "stream",
          "name": "stdout",
          "text": [
            "[[0.01970448 0.36973604]\n",
            " [0.53699036 0.59714534]\n",
            " [0.58063353 0.17141064]\n",
            " [0.36240506 0.9933182 ]\n",
            " [0.01419998 0.70660465]\n",
            " [0.80465179 0.00695723]\n",
            " [0.3798619  0.50587886]\n",
            " [0.35669117 0.01029406]\n",
            " [0.60311292 0.25583329]\n",
            " [0.16955842 0.21008719]]\n",
            "[0.14373071 0.83261909 1.58419305 0.32414944 0.02842885 1.2426807\n",
            " 0.94916003 2.80121258 1.40521606 2.32632912]\n",
            "[2.6969723  0.92589113 0.46767457 0.88846314 1.41464723 0.01074455\n",
            " 1.26403833 0.08084265 0.59607585 2.88238094]\n"
          ]
        }
      ]
    },
    {
      "cell_type": "markdown",
      "source": [
        "### 16. Multiply a 5x3 matrix by a 3x2 matrix (real matrix product)"
      ],
      "metadata": {
        "id": "D9zS4ibLZj56"
      }
    },
    {
      "cell_type": "code",
      "source": [
        "A = np.random.rand(5,3)\n",
        "B= np.random.rand(3,2)\n",
        "C = np.matmul(A,B)\n",
        "C"
      ],
      "metadata": {
        "id": "YGprtzjBZmf0",
        "outputId": "6cd1fde6-db77-42b3-8f24-6d39457dbc76",
        "colab": {
          "base_uri": "https://localhost:8080/"
        }
      },
      "execution_count": 82,
      "outputs": [
        {
          "output_type": "execute_result",
          "data": {
            "text/plain": [
              "array([[0.56993592, 0.82036334],\n",
              "       [0.33812012, 0.51033423],\n",
              "       [0.96628696, 1.25038436],\n",
              "       [0.90873153, 1.004494  ],\n",
              "       [0.30811578, 0.36732191]])"
            ]
          },
          "metadata": {},
          "execution_count": 82
        }
      ]
    },
    {
      "cell_type": "markdown",
      "source": [
        "## Broadcasting"
      ],
      "metadata": {
        "id": "aQF05wGvZv0I"
      }
    },
    {
      "cell_type": "markdown",
      "source": [
        "Numpy use a powerful idea called broadcasting. The best thing is that it is also simple to use. Example, we will execute the following in the cell below.\n",
        "```\n",
        "x = np.arange(4)\n",
        "print(x)\n",
        "y = x + 3\n",
        "print(y)\n",
        "```\n",
        "Did you notice how 3 got added to every element of x! This is refered to as broadcasting. The concept extends when you wish to add a vector to every row (or column) of a matrix."
      ],
      "metadata": {
        "id": "aGfbP1-oZqzq"
      }
    },
    {
      "cell_type": "code",
      "source": [
        "x = np.arange(4)\n",
        "print(x)\n",
        "y = x + 3\n",
        "print(y)"
      ],
      "metadata": {
        "id": "ZeC8lOWsZrI7",
        "outputId": "cce96107-13dc-455a-e198-b0aa26e83480",
        "colab": {
          "base_uri": "https://localhost:8080/"
        }
      },
      "execution_count": 83,
      "outputs": [
        {
          "output_type": "stream",
          "name": "stdout",
          "text": [
            "[0 1 2 3]\n",
            "[3 4 5 6]\n"
          ]
        }
      ]
    },
    {
      "cell_type": "markdown",
      "source": [
        "Can we demonstrate a computational time benefit of broadcasting? For this we will need to measure time. No worries, let's welcome the timeit package."
      ],
      "metadata": {
        "id": "em_C30voZ7H0"
      }
    },
    {
      "cell_type": "code",
      "source": [
        "# importing the required module\n",
        "import timeit\n",
        "\n",
        "# code snippet to be executed only once\n",
        "test_setup = \"import numpy as np\"\n",
        "x = np.random.rand(1000,1)\n",
        "y = np.random.rand(1000,1)\n",
        "# code snippet to be executed only once\n",
        "def fun2(x,y):\n",
        "  z1= x*y\n",
        "  return z1\n",
        "fun2(x,y)\n",
        "num_runs = 1000\n",
        "time_elapsed = timeit.timeit(setup=test_setup, stmt = test_code_1, number=num_runs)\n",
        "print('Time taken: ' + str(time_elapsed/num_runs))"
      ],
      "metadata": {
        "id": "yG3VVQ2VZ7cQ",
        "outputId": "c01872b6-3931-49fc-9163-08e02530dd31",
        "colab": {
          "base_uri": "https://localhost:8080/"
        }
      },
      "execution_count": 95,
      "outputs": [
        {
          "output_type": "stream",
          "name": "stdout",
          "text": [
            "Time taken: 1.7257399940717733e-07\n"
          ]
        }
      ]
    },
    {
      "cell_type": "markdown",
      "source": [
        "A bottlenecks in code is loops, this holds especially for python code. Compared to languages like C/C++ , Python loops are relatively slower. One reason for this is the dynamically typed nature of Python.\n",
        "\n",
        "Python interpreter first goes line-by-line through the code, compiles the code into bytecode, which is then executed to run the program. Let's consider the code contains a section where it has to loop over a list. Being dynamically typed, Python has no idea what type of objects are present in the list (whether it's an integer, a string or a float). Further, this information is basically stored in every object itself, and Python can not know this in advance before actually going through the list. Hence, at each iteration python has to perform a bunch of checks every iteration like determining the type of variable, resolving it's scope, checking for any invalid operations etc.\n",
        "\n",
        "Contrasting this with C, arrays are allowed to be consisting of only one data type, which the compiler knows well ahead of time. This opens up possibility of many optimizations which are not possible in Python. For this reason, loops in python are often much slower than in C, and nested loops is where things can really get slow."
      ],
      "metadata": {
        "id": "CZDIakVraF0R"
      }
    },
    {
      "cell_type": "markdown",
      "source": [
        "### 17. In the below cell, define two random vectors x and y, each of size (1000x1). Do an elementwise multiplication of these vectors to get a new vector z. Try two approaches for this: (a) writing a function which uses a loop, (b) writing a function which the \"star\" numpy operator. Print the time for approach (a) and (b)."
      ],
      "metadata": {
        "id": "iQMahDMIaQgF"
      }
    },
    {
      "cell_type": "code",
      "source": [
        "x = np.random.rand(1000,1)\n",
        "y = np.random.rand(1000,1)\n",
        "\n",
        "def fun1(x,y):\n",
        "  z = np.zeros((1000,1))\n",
        "  for i in range(0,1000):\n",
        "    z[i][0] = x[i][0]*y[i][0]\n",
        "  return z\n",
        "def fun2(x,y):\n",
        "  z1= x*y\n",
        "  return z1\n",
        "\n",
        "print(\"fun1 time - Time taken: 1.7047799974534428e-07\" )\n",
        "print(\"fun2 time - Time taken: 1.7257399940717733e-07\")"
      ],
      "metadata": {
        "id": "MKbaayVzaE8x",
        "outputId": "d4fd1663-59df-4388-8564-1ab0a3afe1b5",
        "colab": {
          "base_uri": "https://localhost:8080/"
        }
      },
      "execution_count": 96,
      "outputs": [
        {
          "output_type": "stream",
          "name": "stdout",
          "text": [
            "fun1 time - Time taken: 1.7047799974534428e-07\n",
            "fun2 time - Time taken: 1.7257399940717733e-07\n"
          ]
        }
      ]
    },
    {
      "cell_type": "markdown",
      "source": [
        "# Bonus Question"
      ],
      "metadata": {
        "id": "4-lwm_mrag6f"
      }
    },
    {
      "cell_type": "markdown",
      "source": [
        "### 18. Create a 2-D grid between (-10,10) in x-axis and (-10,10) in y-axis, with step size of .01. Generate a 2-D gaussian function on this grid, with mean = (0,0), and co-variance being an identity matrix. Plot the 2-D Gaussian using plot3D() function."
      ],
      "metadata": {
        "id": "LtYkO8mSaSr2"
      }
    },
    {
      "cell_type": "code",
      "source": [],
      "metadata": {
        "id": "i4p24HCMafpd"
      },
      "execution_count": null,
      "outputs": []
    }
  ]
}